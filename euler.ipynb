{
 "cells": [
  {
   "cell_type": "markdown",
   "metadata": {},
   "source": [
    "# Project Euler problem #3 [[link]](https://projecteuler.net/problem=3)\n",
    "\n",
    "> The prime factors of $13195$ are $5, 7, 13$ and $29$.\n",
    ">\n",
    "> What is the largest prime factor of the number $600851475143$?\n"
   ]
  },
  {
   "cell_type": "markdown",
   "metadata": {},
   "source": [
    "The below solution is adapted from a solution shared on [StackOverflow](https://stackoverflow.com/questions/15347174/python-finding-prime-factors). (The SO solution is a bit more efficient, but this version is easier to explain.)"
   ]
  },
  {
   "cell_type": "code",
   "execution_count": 1,
   "metadata": {},
   "outputs": [],
   "source": [
    "def largest_prime_factor(n):\n",
    "    i = 2\n",
    "    while i < n:\n",
    "        if n % i == 0:\n",
    "            n = n // i\n",
    "        else:\n",
    "            i = i + 1\n",
    "    return i"
   ]
  },
  {
   "cell_type": "markdown",
   "metadata": {},
   "source": [
    "Why does this work? Let's go through it line by line."
   ]
  },
  {
   "cell_type": "markdown",
   "metadata": {},
   "source": [
    "We start with `i=2` because $2$ is the smallest possible prime factor. At each point of the algorithm, `i` will be used to track an integer that is less than or equal to the largest prime factor of `n`."
   ]
  },
  {
   "cell_type": "markdown",
   "metadata": {},
   "source": [
    "To see that this function works, we first consider the case where `n` is a prime number itself. In this case, the algorithm should return `n`. When $n=2$, this is successful: the while loop is skipped as $2\\not< 2$, and `n` is returned."
   ]
  },
  {
   "cell_type": "markdown",
   "metadata": {},
   "source": [
    "What about a larger prime? For $n=3$, the while loop is triggered as $2<3$. But note that the `if` clause `n % i == 0` will never trigger for a prime `n`: we know $i < n$, and since $n$ is prime it has no factors other than $1$ and itself."
   ]
  },
  {
   "cell_type": "markdown",
   "metadata": {},
   "source": [
    "As a result, when `n` is prime and $i< n$, we only ever trigger the line `i = i + 1`. This means `i` will continue to grow until eventually $i\\not< n$, and in fact $i=n$, and then we correctly return `i`:"
   ]
  },
  {
   "cell_type": "code",
   "execution_count": 2,
   "metadata": {},
   "outputs": [
    {
     "data": {
      "text/plain": [
       "97"
      ]
     },
     "execution_count": 2,
     "metadata": {},
     "output_type": "execute_result"
    }
   ],
   "source": [
    "largest_prime_factor(97)"
   ]
  },
  {
   "cell_type": "markdown",
   "metadata": {},
   "source": [
    "So what about when `n` is composite? Every composite number has a prime factorization: $n = p_1^{q_1}\\cdots p_m^{q_m}$. Let's assume $p_1<p_2<\\cdots<p_m$."
   ]
  },
  {
   "cell_type": "markdown",
   "metadata": {},
   "source": [
    "Our algorithm should return $p_m$. To accomplish this, we will modify `n` by dividing out each of the smaller $p_i$ from it; if we accomplish this, we will eventually have $n=p_m^{q_m}$."
   ]
  },
  {
   "cell_type": "markdown",
   "metadata": {},
   "source": [
    "We're able to do this because as long as $i<n$, either $i$ divides $n$ and we divide it out, or eventually $i$ is no longer a factor of $n$ and we increment it by $1$. Note that we only ever divide out primes - when we get to, say, $i=6$, we've already divided out as many $2$ and $3$ as we can. So eventually when we reach $i=n$, $i$ must be a prime: if $i=ab$, then we already divided out all the $a$ and $b$ since $a,b<i$. Thus we get the following results:"
   ]
  },
  {
   "cell_type": "code",
   "execution_count": 3,
   "metadata": {},
   "outputs": [
    {
     "data": {
      "text/plain": [
       "29"
      ]
     },
     "execution_count": 3,
     "metadata": {},
     "output_type": "execute_result"
    }
   ],
   "source": [
    "largest_prime_factor(13195)"
   ]
  },
  {
   "cell_type": "code",
   "execution_count": 4,
   "metadata": {},
   "outputs": [
    {
     "data": {
      "text/plain": [
       "6857"
      ]
     },
     "execution_count": 4,
     "metadata": {},
     "output_type": "execute_result"
    }
   ],
   "source": [
    "largest_prime_factor(600851475143)"
   ]
  },
  {
   "cell_type": "markdown",
   "metadata": {},
   "source": [
    "The above output is the solution to the Euler problem. Finally, consider the following modification of the function that explains the rationale we've described above as it runs:"
   ]
  },
  {
   "cell_type": "code",
   "execution_count": 13,
   "metadata": {},
   "outputs": [],
   "source": [
    "def largest_prime_factor_explained(n):\n",
    "    i = 2\n",
    "    print(f\"The smallest possible output is {i=}.\")\n",
    "    while i < n:\n",
    "        if n % i == 0:\n",
    "            n = n // i\n",
    "        else:\n",
    "            i = i + 1\n",
    "    return i"
   ]
  },
  {
   "cell_type": "code",
   "execution_count": 14,
   "metadata": {},
   "outputs": [
    {
     "name": "stdout",
     "output_type": "stream",
     "text": [
      "The smallest possible output is i=2.\n"
     ]
    },
    {
     "data": {
      "text/plain": [
       "97"
      ]
     },
     "execution_count": 14,
     "metadata": {},
     "output_type": "execute_result"
    }
   ],
   "source": [
    "largest_prime_factor_explained(97)"
   ]
  }
 ],
 "metadata": {
  "kernelspec": {
   "display_name": "Python 3",
   "language": "python",
   "name": "python3"
  },
  "language_info": {
   "codemirror_mode": {
    "name": "ipython",
    "version": 3
   },
   "file_extension": ".py",
   "mimetype": "text/x-python",
   "name": "python",
   "nbconvert_exporter": "python",
   "pygments_lexer": "ipython3",
   "version": "3.10.8"
  }
 },
 "nbformat": 4,
 "nbformat_minor": 2
}
