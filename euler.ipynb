{
 "cells": [
  {
   "cell_type": "markdown",
   "metadata": {},
   "source": [
    "# Project Euler problem #3 [[link]](https://projecteuler.net/problem=3)\n",
    "\n",
    "> The prime factors of $13195$ are $5, 7, 13$ and $29$.\n",
    ">\n",
    "> What is the largest prime factor of the number $600851475143$?\n"
   ]
  },
  {
   "cell_type": "markdown",
   "metadata": {},
   "source": [
    "The below solution was lightly adapted from a solution shared on [StackOverflow](https://stackoverflow.com/questions/15347174/python-finding-prime-factors)."
   ]
  },
  {
   "cell_type": "code",
   "execution_count": 1,
   "metadata": {},
   "outputs": [],
   "source": [
    "def largest_prime_factor(n):\n",
    "    i = 2\n",
    "    while i * i <= n:\n",
    "        if n % i == 0:\n",
    "            n = n // i\n",
    "        else:\n",
    "            i = i + 1\n",
    "    return n"
   ]
  },
  {
   "cell_type": "markdown",
   "metadata": {},
   "source": [
    "Why does this work? Let's go through it line by line."
   ]
  },
  {
   "cell_type": "markdown",
   "metadata": {},
   "source": [
    "We start with `i=2` because $2$ is the smallest possible prime factor. At each point of the algorithm, `i` will be used to track an integer that is less than or equal to the largest prime factor of `n`."
   ]
  },
  {
   "cell_type": "markdown",
   "metadata": {},
   "source": [
    "To see that this function works, we first consider the case where `n` is a prime number itself. In this case, the algorithm should return `n`. When $n=2$, this is successful: the while loop is skipped as $2\\cdot 2\\not\\leq 2$, and `n` is returned. The case is similar for $n=3$."
   ]
  },
  {
   "cell_type": "markdown",
   "metadata": {},
   "source": [
    "What about a larger prime? For $n=5$, the while loop is triggered as $2\\cdot 2\\leq 5$. But note that the `if` clause `n % i == 0` will never trigger for a prime `n`: since `i * i <= n` passed, we know $i < n$, and since $n$ is prime it has no factors other than $1$ and itself."
   ]
  },
  {
   "cell_type": "markdown",
   "metadata": {},
   "source": [
    "As a result, when `n` is prime and $i\\cdot i\\leq n$, we only ever trigger the line `i = i + 1`. This means `i` will continue to grow until eventually $i\\cdot i\\not\\leq n$, and then we correctly return `n`:"
   ]
  },
  {
   "cell_type": "code",
   "execution_count": 4,
   "metadata": {},
   "outputs": [
    {
     "data": {
      "text/plain": [
       "97"
      ]
     },
     "execution_count": 4,
     "metadata": {},
     "output_type": "execute_result"
    }
   ],
   "source": [
    "largest_prime_factor(97)"
   ]
  },
  {
   "cell_type": "markdown",
   "metadata": {},
   "source": [
    "So what about when `n` is composite? Every composite number has a prime factorization: $n = p_1^{n_1}\\cdots p_m^{n_m}$."
   ]
  },
  {
   "cell_type": "code",
   "execution_count": 2,
   "metadata": {},
   "outputs": [
    {
     "data": {
      "text/plain": [
       "29"
      ]
     },
     "execution_count": 2,
     "metadata": {},
     "output_type": "execute_result"
    }
   ],
   "source": [
    "largest_prime_factor(13195)"
   ]
  },
  {
   "cell_type": "code",
   "execution_count": 3,
   "metadata": {},
   "outputs": [
    {
     "data": {
      "text/plain": [
       "6857"
      ]
     },
     "execution_count": 3,
     "metadata": {},
     "output_type": "execute_result"
    }
   ],
   "source": [
    "largest_prime_factor(600851475143)"
   ]
  }
 ],
 "metadata": {
  "kernelspec": {
   "display_name": "Python 3",
   "language": "python",
   "name": "python3"
  },
  "language_info": {
   "codemirror_mode": {
    "name": "ipython",
    "version": 3
   },
   "file_extension": ".py",
   "mimetype": "text/x-python",
   "name": "python",
   "nbconvert_exporter": "python",
   "pygments_lexer": "ipython3",
   "version": "3.10.8"
  }
 },
 "nbformat": 4,
 "nbformat_minor": 2
}
