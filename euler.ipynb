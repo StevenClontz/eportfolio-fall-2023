{
 "cells": [
  {
   "cell_type": "markdown",
   "metadata": {},
   "source": [
    "The prime factors of $13195$ are $5, 7, 13$ and $29$.\n",
    "\n",
    "What is the largest prime factor of the number $600851475143$?\n"
   ]
  },
  {
   "cell_type": "code",
   "execution_count": 2,
   "metadata": {},
   "outputs": [],
   "source": [
    "def largest_prime_factor(n):\n",
    "    i = 2\n",
    "    while i * i <= n:\n",
    "        if n % i == 0:\n",
    "            n = n // i\n",
    "        else:\n",
    "            i += 1\n",
    "    return n"
   ]
  },
  {
   "cell_type": "markdown",
   "metadata": {},
   "source": [
    "I got the above algorithm by modifying one found at [StackOverflow](https://stackoverflow.com/questions/15347174/python-finding-prime-factors).\n",
    "\n",
    "Why does this work? Let's go through it line by line.\n",
    "\n",
    "We start with `i=2` because $2$ is the smallest possible prime factor.\n",
    "\n",
    "We use the while loop `while i * i <= n:` because, first of all, the largest prime factor\n",
    "for $n$ is $\\sqrt n$ (if that's an integer)."
   ]
  },
  {
   "cell_type": "code",
   "execution_count": 4,
   "metadata": {},
   "outputs": [
    {
     "data": {
      "text/plain": [
       "6857"
      ]
     },
     "execution_count": 4,
     "metadata": {},
     "output_type": "execute_result"
    }
   ],
   "source": [
    "largest_prime_factor(600851475143)"
   ]
  }
 ],
 "metadata": {
  "kernelspec": {
   "display_name": "Python 3",
   "language": "python",
   "name": "python3"
  },
  "language_info": {
   "codemirror_mode": {
    "name": "ipython",
    "version": 3
   },
   "file_extension": ".py",
   "mimetype": "text/x-python",
   "name": "python",
   "nbconvert_exporter": "python",
   "pygments_lexer": "ipython3",
   "version": "3.10.8"
  }
 },
 "nbformat": 4,
 "nbformat_minor": 2
}
